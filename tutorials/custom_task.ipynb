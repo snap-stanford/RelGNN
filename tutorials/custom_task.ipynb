{
 "cells": [
  {
   "cell_type": "code",
   "execution_count": null,
   "id": "c78b043e-5c18-4915-bc4a-00faca29e131",
   "metadata": {},
   "outputs": [],
   "source": [
    "!pip install relbench\n",
    "\n",
    "import relbench\n",
    "\n",
    "relbench.__version__"
   ]
  },
  {
   "cell_type": "markdown",
   "id": "4f6bd3f0-7f93-486f-9621-127267cc6515",
   "metadata": {},
   "source": [
    "You can define your own tasks over the existing datasets or your own custom dataset (see tutorial at [custom_dataset.ipynb](custom_dataset.ipynb)). This tutorial shows how.\n",
    "\n",
    "Code in this notebook has been adapted from `relbench/tasks/f1.py`."
   ]
  },
  {
   "cell_type": "markdown",
   "id": "8e840a5f-a6e4-4aff-b6b8-4a777dc2045a",
   "metadata": {
    "execution": {
     "iopub.execute_input": "2024-07-22T22:51:35.258604Z",
     "iopub.status.busy": "2024-07-22T22:51:35.258167Z",
     "iopub.status.idle": "2024-07-22T22:51:35.269009Z",
     "shell.execute_reply": "2024-07-22T22:51:35.268587Z",
     "shell.execute_reply.started": "2024-07-22T22:51:35.258581Z"
    }
   },
   "source": [
    "# Custom Entity Classification Task"
   ]
  },
  {
   "cell_type": "markdown",
   "id": "ff3e0f44-217f-41ed-8af1-78902337752f",
   "metadata": {},
   "source": [
    "For illustration, we focus on creating an entity-classification task on the `rel-f1` dataset. Creating entity-regression or recommendation tasks are similar. See the RelBench code (e.g., the `relbench.base.EntityTask` and `relbench.base.RecommendationTask` classes) for more documentations and `relbench/tasks/*.py` for examples."
   ]
  },
  {
   "cell_type": "markdown",
   "id": "3cd3d3e7-e810-483e-beeb-e74c66c8ad48",
   "metadata": {},
   "source": [
    "## Imports"
   ]
  },
  {
   "cell_type": "code",
   "execution_count": 1,
   "id": "e78e8039-1bb8-4265-ac9e-65520deab3a5",
   "metadata": {
    "execution": {
     "iopub.execute_input": "2024-07-26T00:26:44.188306Z",
     "iopub.status.busy": "2024-07-26T00:26:44.187916Z",
     "iopub.status.idle": "2024-07-26T00:26:44.958847Z",
     "shell.execute_reply": "2024-07-26T00:26:44.957986Z",
     "shell.execute_reply.started": "2024-07-26T00:26:44.188266Z"
    }
   },
   "outputs": [],
   "source": [
    "import duckdb\n",
    "import pandas as pd\n",
    "\n",
    "from relbench.base import Database, EntityTask, Table, TaskType\n",
    "from relbench.datasets import get_dataset\n",
    "from relbench.metrics import accuracy, average_precision, f1, roc_auc\n",
    "from relbench.tasks import get_task, get_task_names, register_task"
   ]
  },
  {
   "cell_type": "markdown",
   "id": "dff46a3c-a202-4f27-8533-1dfdc6d41dbf",
   "metadata": {},
   "source": [
    "## Overview"
   ]
  },
  {
   "cell_type": "markdown",
   "id": "36d9cd6e-e325-4bdf-8417-23a1fcaff2b5",
   "metadata": {},
   "source": [
    "RelBench supports entity tasks which involve classification or regression over a single entity and recommendation tasks which involve predicting the target entity for a given source entity. For the former, subclass the `relbench.base.EntityTask` class and for the latter use `relbench.base.RecommendationTask`. Both `EntityTask` and `RecommendationTask` are themselves subclasses of `BaseTask` where you can find documentation for attributes shared by both kinds of tasks."
   ]
  },
  {
   "cell_type": "markdown",
   "id": "10240d58-21f8-42ba-a936-031114aec2fc",
   "metadata": {},
   "source": [
    "To define a custom task, you subclass either `EntityTask` or `RecommendationTask` and provide the attributes required (such as `timedelta`). See the code for these classes or the `BaseTask` class for documentation on the various attributes that need to be set."
   ]
  },
  {
   "cell_type": "markdown",
   "id": "ee17a117-c8f0-4f43-9f9d-7b41c0886acb",
   "metadata": {
    "execution": {
     "iopub.execute_input": "2024-07-22T23:11:18.430211Z",
     "iopub.status.busy": "2024-07-22T23:11:18.429861Z",
     "iopub.status.idle": "2024-07-22T23:11:18.446220Z",
     "shell.execute_reply": "2024-07-22T23:11:18.445784Z",
     "shell.execute_reply.started": "2024-07-22T23:11:18.430194Z"
    }
   },
   "source": [
    "### The make_table function"
   ]
  },
  {
   "cell_type": "markdown",
   "id": "7deac8d1-bdf1-4f96-9cb2-93cd665ca71d",
   "metadata": {},
   "source": [
    "Labels for RelBench tasks can be constructed from the historical records in the database itself. Thus, to define a task we want to specify how to construct the labels for any given timestamp. For computational efficiency we may want to construct labels for many timestamps together. This facility is provided by the `make_db` function which inputs a `Database` and a `pd.Series` of `pd.Timestamp` values and returns the task `Table`."
   ]
  },
  {
   "cell_type": "markdown",
   "id": "02517c28-2b6a-481c-b15b-264457236edc",
   "metadata": {},
   "source": [
    "In RelBench, we express tasks via SQL queries over the database (using `duckdb`) for efficiency (query-optimization, parallelization, etc.). You are free to use something else (e.g., Pandas)."
   ]
  },
  {
   "cell_type": "markdown",
   "id": "0d382e5d-8e33-45b0-a676-7b2fe9e2f1cd",
   "metadata": {},
   "source": [
    "## Annotated Sample Implementation"
   ]
  },
  {
   "cell_type": "code",
   "execution_count": 2,
   "id": "165d2698-ae4c-44f9-be75-24cf55028bde",
   "metadata": {
    "execution": {
     "iopub.execute_input": "2024-07-26T00:26:46.734456Z",
     "iopub.status.busy": "2024-07-26T00:26:46.733886Z",
     "iopub.status.idle": "2024-07-26T00:26:46.753149Z",
     "shell.execute_reply": "2024-07-26T00:26:46.752572Z",
     "shell.execute_reply.started": "2024-07-26T00:26:46.734417Z"
    }
   },
   "outputs": [],
   "source": [
    "class DriverDNFTask(EntityTask):\n",
    "    ################################################################################\n",
    "    # Use docstrings to describe the task\n",
    "    ################################################################################\n",
    "    r\"\"\"Predict the if each driver will DNF (not finish) a race in the next 1 month.\"\"\"\n",
    "\n",
    "    ################################################################################\n",
    "    # Fill out the task attributes\n",
    "    ################################################################################\n",
    "    task_type = TaskType.BINARY_CLASSIFICATION\n",
    "    entity_col = \"driverId\"\n",
    "    entity_table = \"drivers\"\n",
    "    time_col = \"date\"\n",
    "    target_col = \"did_not_finish\"\n",
    "    timedelta = pd.Timedelta(days=30)\n",
    "    metrics = [average_precision, accuracy, f1, roc_auc]\n",
    "    num_eval_timestamps = 40\n",
    "\n",
    "    def make_table(self, db: Database, timestamps: \"pd.Series[pd.Timestamp]\") -> Table:\n",
    "        ################################################################################\n",
    "        # Dataframes in the local context are accessible in the SQL query via duckdb\n",
    "        ################################################################################\n",
    "\n",
    "        timestamp_df = pd.DataFrame({\"timestamp\": timestamps})\n",
    "\n",
    "        results = db.table_dict[\"results\"].df\n",
    "        drivers = db.table_dict[\"drivers\"].df\n",
    "        races = db.table_dict[\"races\"].df\n",
    "\n",
    "        ################################################################################\n",
    "        # This SQL query computes the labels for date, driverID pairs\n",
    "        ################################################################################\n",
    "        df = duckdb.sql(\n",
    "            f\"\"\"\n",
    "                SELECT\n",
    "                    t.timestamp as date,\n",
    "                    dri.driverId as driverId,\n",
    "                    CASE\n",
    "                        WHEN MAX(CASE WHEN re.statusId != 1 THEN 1 ELSE 0 END) = 1 THEN 0\n",
    "                        ELSE 1\n",
    "                    END AS did_not_finish\n",
    "                FROM\n",
    "                    timestamp_df t\n",
    "                LEFT JOIN\n",
    "                    results re\n",
    "                ON\n",
    "                    re.date <= t.timestamp + INTERVAL '{self.timedelta}'\n",
    "                    and re.date  > t.timestamp\n",
    "                LEFT JOIN\n",
    "                    drivers dri\n",
    "                ON\n",
    "                    re.driverId = dri.driverId\n",
    "                WHERE\n",
    "                    dri.driverId IN (\n",
    "                        SELECT DISTINCT driverId\n",
    "                        FROM results\n",
    "                        WHERE date > t.timestamp - INTERVAL '1 year'\n",
    "                    )\n",
    "                GROUP BY t.timestamp, dri.driverId\n",
    "\n",
    "            ;\n",
    "            \"\"\"\n",
    "        ).df()\n",
    "\n",
    "        ################################################################################\n",
    "        # The task table is expressed via a Table object, same as used in Database\n",
    "        ################################################################################\n",
    "        return Table(\n",
    "            df=df,\n",
    "            fkey_col_to_pkey_table={self.entity_col: self.entity_table},\n",
    "            pkey_col=None,\n",
    "            time_col=self.time_col,\n",
    "        )"
   ]
  },
  {
   "cell_type": "markdown",
   "id": "aac9d740-e2db-4d7f-b230-b5c06d892e29",
   "metadata": {},
   "source": [
    "## Using the custom task"
   ]
  },
  {
   "cell_type": "markdown",
   "id": "31d15944-4cb0-4ce8-872d-349d2d654950",
   "metadata": {},
   "source": [
    "Tasks are defined on a `Dataset` object. You can use a RelBench dataset or even your custom one. The custom `BaseTask` subclass can be used directly as follows:"
   ]
  },
  {
   "cell_type": "code",
   "execution_count": 3,
   "id": "65c18113-7067-41cf-81da-bb159f17e581",
   "metadata": {
    "execution": {
     "iopub.execute_input": "2024-07-26T00:26:49.051643Z",
     "iopub.status.busy": "2024-07-26T00:26:49.051331Z",
     "iopub.status.idle": "2024-07-26T00:26:49.086011Z",
     "shell.execute_reply": "2024-07-26T00:26:49.084808Z",
     "shell.execute_reply.started": "2024-07-26T00:26:49.051617Z"
    }
   },
   "outputs": [
    {
     "data": {
      "text/plain": [
       "F1Dataset()"
      ]
     },
     "execution_count": 3,
     "metadata": {},
     "output_type": "execute_result"
    }
   ],
   "source": [
    "f1_dataset = get_dataset(\"rel-f1\")\n",
    "f1_dataset"
   ]
  },
  {
   "cell_type": "code",
   "execution_count": 4,
   "id": "7d9de641-13ae-442e-bfa0-08d5efa5a1c1",
   "metadata": {
    "execution": {
     "iopub.execute_input": "2024-07-26T00:27:05.636732Z",
     "iopub.status.busy": "2024-07-26T00:27:05.636238Z",
     "iopub.status.idle": "2024-07-26T00:27:05.670377Z",
     "shell.execute_reply": "2024-07-26T00:27:05.669221Z",
     "shell.execute_reply.started": "2024-07-26T00:27:05.636695Z"
    }
   },
   "outputs": [
    {
     "data": {
      "text/plain": [
       "DriverDNFTask(dataset=F1Dataset())"
      ]
     },
     "execution_count": 4,
     "metadata": {},
     "output_type": "execute_result"
    }
   ],
   "source": [
    "driver_dnf_task = DriverDNFTask(f1_dataset, cache_dir=\"./cache/driver_dnf\")\n",
    "driver_dnf_task"
   ]
  },
  {
   "cell_type": "code",
   "execution_count": 5,
   "id": "17dc774d-8aa7-4f2d-aad6-7c92a99f9209",
   "metadata": {
    "execution": {
     "iopub.execute_input": "2024-07-26T00:27:11.575669Z",
     "iopub.status.busy": "2024-07-26T00:27:11.575251Z",
     "iopub.status.idle": "2024-07-26T00:27:11.929055Z",
     "shell.execute_reply": "2024-07-26T00:27:11.928164Z",
     "shell.execute_reply.started": "2024-07-26T00:27:11.575633Z"
    }
   },
   "outputs": [
    {
     "name": "stdout",
     "output_type": "stream",
     "text": [
      "Making task table for train split from scratch...\n",
      "(You can also use `get_task(..., download=True)` for tasks prepared by the RelBench team.)\n",
      "Loading Database object from /afs/cs.stanford.edu/u/ranjanr/.cache/relbench/rel-f1/db...\n",
      "Done in 0.04 seconds.\n",
      "Loading Database object from /afs/cs.stanford.edu/u/ranjanr/.cache/relbench/rel-f1/db...\n",
      "Done in 0.02 seconds.\n",
      "Done in 0.32 seconds.\n"
     ]
    },
    {
     "data": {
      "text/plain": [
       "Table(df=\n",
       "            date  driverId  did_not_finish\n",
       "0     2004-08-04        20               0\n",
       "1     2004-08-04        12               0\n",
       "2     2004-07-05        10               1\n",
       "3     2004-07-05        47               1\n",
       "4     2004-06-05        31               0\n",
       "...          ...       ...             ...\n",
       "11406 1977-04-28       228               0\n",
       "11407 1977-06-27       259               0\n",
       "11408 1957-05-13       611               1\n",
       "11409 1955-05-24       611               0\n",
       "11410 1954-06-28       683               0\n",
       "\n",
       "[11411 rows x 3 columns],\n",
       "  fkey_col_to_pkey_table={'driverId': 'drivers'},\n",
       "  pkey_col=None,\n",
       "  time_col=date)"
      ]
     },
     "execution_count": 5,
     "metadata": {},
     "output_type": "execute_result"
    }
   ],
   "source": [
    "driver_dnf_task.get_table(\"train\")"
   ]
  },
  {
   "cell_type": "markdown",
   "id": "6fd40abb-c7b4-42b3-af69-78d10f01b12b",
   "metadata": {},
   "source": [
    "### Development advice"
   ]
  },
  {
   "cell_type": "markdown",
   "id": "818a1fd5-0c84-4eba-b3d6-7b9f2da55d45",
   "metadata": {},
   "source": [
    "While developing `make_table` code, it is suggested to call `make_table` directly (instead of `get_table`) to avoid caching artifacts while debugging. Alternatively, you can call `_get_table` which is an uncached version of `get_table`."
   ]
  },
  {
   "cell_type": "code",
   "execution_count": 6,
   "id": "942649f9-4527-4dba-817f-52eb44851189",
   "metadata": {
    "execution": {
     "iopub.execute_input": "2024-07-26T00:27:15.890318Z",
     "iopub.status.busy": "2024-07-26T00:27:15.890091Z",
     "iopub.status.idle": "2024-07-26T00:27:16.157594Z",
     "shell.execute_reply": "2024-07-26T00:27:16.156802Z",
     "shell.execute_reply.started": "2024-07-26T00:27:15.890302Z"
    }
   },
   "outputs": [
    {
     "data": {
      "text/plain": [
       "Table(df=\n",
       "            date  driverId  did_not_finish\n",
       "0     2004-08-04        20               0\n",
       "1     2004-08-04        12               0\n",
       "2     2004-07-05        10               1\n",
       "3     2004-07-05        47               1\n",
       "4     2004-06-05        31               0\n",
       "...          ...       ...             ...\n",
       "11406 1977-04-28       228               0\n",
       "11407 1977-06-27       259               0\n",
       "11408 1957-05-13       611               1\n",
       "11409 1955-05-24       611               0\n",
       "11410 1954-06-28       683               0\n",
       "\n",
       "[11411 rows x 3 columns],\n",
       "  fkey_col_to_pkey_table={'driverId': 'drivers'},\n",
       "  pkey_col=None,\n",
       "  time_col=date)"
      ]
     },
     "execution_count": 6,
     "metadata": {},
     "output_type": "execute_result"
    }
   ],
   "source": [
    "driver_dnf_task._get_table(\"train\")"
   ]
  },
  {
   "cell_type": "markdown",
   "id": "ab7ee822-8fa0-4cfe-98d4-5040d289967d",
   "metadata": {},
   "source": [
    "### Registering your custom task"
   ]
  },
  {
   "cell_type": "markdown",
   "id": "7cb1297b-f06e-4317-a27c-49abcc0f3d0c",
   "metadata": {},
   "source": [
    "You can also register your task to make it available to `relbench.tasks.get_task` and use standardized caching locations (`~/.cache/relbench/<dataset-name>/tasks/<task-name>`). Note that the dataset should already be registered for this."
   ]
  },
  {
   "cell_type": "code",
   "execution_count": 7,
   "id": "3df1be1a-3024-4cec-9ef7-17b645af6aa5",
   "metadata": {
    "execution": {
     "iopub.execute_input": "2024-07-26T00:27:21.252561Z",
     "iopub.status.busy": "2024-07-26T00:27:21.252308Z",
     "iopub.status.idle": "2024-07-26T00:27:21.269893Z",
     "shell.execute_reply": "2024-07-26T00:27:21.269371Z",
     "shell.execute_reply.started": "2024-07-26T00:27:21.252543Z"
    }
   },
   "outputs": [
    {
     "data": {
      "text/plain": [
       "['driver-position', 'driver-dnf', 'driver-top3', 'custom_driver-dnf']"
      ]
     },
     "execution_count": 7,
     "metadata": {},
     "output_type": "execute_result"
    }
   ],
   "source": [
    "register_task(\"rel-f1\", \"custom_driver-dnf\", DriverDNFTask)\n",
    "get_task_names(\"rel-f1\")"
   ]
  },
  {
   "cell_type": "code",
   "execution_count": 8,
   "id": "ca0fe893-b439-4f7f-aff1-f7e19200ecf9",
   "metadata": {
    "execution": {
     "iopub.execute_input": "2024-07-26T00:27:23.056680Z",
     "iopub.status.busy": "2024-07-26T00:27:23.056288Z",
     "iopub.status.idle": "2024-07-26T00:27:23.086075Z",
     "shell.execute_reply": "2024-07-26T00:27:23.085090Z",
     "shell.execute_reply.started": "2024-07-26T00:27:23.056645Z"
    }
   },
   "outputs": [
    {
     "data": {
      "text/plain": [
       "DriverDNFTask(dataset=F1Dataset())"
      ]
     },
     "execution_count": 8,
     "metadata": {},
     "output_type": "execute_result"
    }
   ],
   "source": [
    "get_task(\"rel-f1\", \"custom_driver-dnf\")"
   ]
  },
  {
   "cell_type": "markdown",
   "id": "3658caf5-6757-4ea5-9082-5f8dec38720e",
   "metadata": {},
   "source": [
    "Note that the registry does not persist beyond the running Python process. This means that to run the baseline scripts at `examples/` in the RelBench repo, you will first have to modify the script to register your own task before `get_task` is called in the script."
   ]
  },
  {
   "cell_type": "markdown",
   "id": "c95941be-00f4-4aef-b532-a58f2c7f76a9",
   "metadata": {},
   "source": [
    "## Advanced Customization"
   ]
  },
  {
   "cell_type": "markdown",
   "id": "655c3a2f-803b-4c76-92f5-3b2235c0bc97",
   "metadata": {},
   "source": [
    "You can also add an `__init__` function to the `BaseTask` subclass. This can allow customizing the returned `BaseTask` object with `args` and `kwargs`."
   ]
  },
  {
   "cell_type": "markdown",
   "id": "190a8530-f94e-4303-8807-880c99fa6c15",
   "metadata": {},
   "source": [
    "Another form of customization is overriding the `_get_table` method directly. This can allow expressing tasks where the labels cannot be computed from the database alone, or splitting is not purely temporal."
   ]
  },
  {
   "cell_type": "markdown",
   "id": "fc3e766d-810a-427c-9c35-d20076db557e",
   "metadata": {},
   "source": [
    "## Next steps"
   ]
  },
  {
   "cell_type": "markdown",
   "id": "ef6166b2-8985-4560-8df3-53428adde281",
   "metadata": {},
   "source": [
    "Please also consider sharing your custom task with the community by getting it added to the RelBench task repository. Check out our [CONTRIBUTING.md](https://github.com/snap-stanford/relbench/blob/main/CONTRIBUTING.md) for how to do this."
   ]
  },
  {
   "cell_type": "code",
   "execution_count": null,
   "id": "35e9841b-04da-4bc8-a3e1-7302121328b9",
   "metadata": {},
   "outputs": [],
   "source": []
  }
 ],
 "metadata": {
  "kernelspec": {
   "display_name": "Python 3 (ipykernel)",
   "language": "python",
   "name": "python3"
  },
  "language_info": {
   "codemirror_mode": {
    "name": "ipython",
    "version": 3
   },
   "file_extension": ".py",
   "mimetype": "text/x-python",
   "name": "python",
   "nbconvert_exporter": "python",
   "pygments_lexer": "ipython3",
   "version": "3.8.19"
  }
 },
 "nbformat": 4,
 "nbformat_minor": 5
}
